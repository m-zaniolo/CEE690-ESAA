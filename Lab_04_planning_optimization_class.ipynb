{
  "nbformat": 4,
  "nbformat_minor": 0,
  "metadata": {
    "colab": {
      "provenance": [],
      "authorship_tag": "ABX9TyMI5mDufJdHHI10omm8BVMc",
      "include_colab_link": true
    },
    "kernelspec": {
      "name": "python3",
      "display_name": "Python 3"
    },
    "language_info": {
      "name": "python"
    }
  },
  "cells": [
    {
      "cell_type": "markdown",
      "metadata": {
        "id": "view-in-github",
        "colab_type": "text"
      },
      "source": [
        "<a href=\"https://colab.research.google.com/github/m-zaniolo/CEE690-ESAA/blob/main/Lab_04_planning_optimization_class.ipynb\" target=\"_parent\"><img src=\"https://colab.research.google.com/assets/colab-badge.svg\" alt=\"Open In Colab\"/></a>"
      ]
    },
    {
      "cell_type": "markdown",
      "source": [
        "#Optimal reservoir sizing\n",
        "\n",
        "In this class, we will optimize a reservoir sizing problem. Let's load inflow and release functions."
      ],
      "metadata": {
        "id": "RkMCbrXo5Tas"
      }
    },
    {
      "cell_type": "code",
      "execution_count": null,
      "metadata": {
        "id": "QbbWBPJH44fu"
      },
      "outputs": [],
      "source": [
        "import matplotlib.pyplot as plt\n",
        "import numpy as np\n",
        "import pandas as pd\n",
        "plt.rcParams['figure.dpi'] = 600\n",
        "\n",
        "url = 'https://raw.githubusercontent.com/m-zaniolo/CEE690-ESAA/main/data/'\n",
        "inflow = np.loadtxt(url + 'inflow.txt', delimiter='\\t') #m3/s\n",
        "release = np.loadtxt(url + 'release4.txt', delimiter='\\t') #m3/s\n",
        "evap = np.loadtxt(url + 'netevap_Gibe1.txt', delimiter=' ') # load cyclostationary evaporation\n",
        "\n",
        "# define constants\n",
        "H = len(inflow) #length of the simulation horizon\n",
        "sim_step = 60*60*24 #seconds per day\n",
        "stor_to_surface = 0.0142\n"
      ]
    },
    {
      "cell_type": "markdown",
      "source": [
        "Let's define a function for the reservoir mass balance"
      ],
      "metadata": {
        "id": "MSsvS81P9mjr"
      }
    },
    {
      "cell_type": "code",
      "source": [
        "def simulate(u):\n",
        "\n",
        "  S = u*1e10\n",
        "  # time convention\n",
        "  inflow_ = np.concatenate(([-999], inflow))\n",
        "  release_ = np.concatenate(([-999], release))\n",
        "\n",
        "  # initialize storage vector\n",
        "  s = np.zeros(len(inflow_))\n",
        "  l = np.zeros(len(inflow_)) ### new\n",
        "  r = np.zeros(len(inflow_)) ### new\n",
        "\n",
        "  s[0] = S*0.7\n",
        "\n",
        "  # mass balance\n",
        "  for t in range(H):\n",
        "    evaporation_t = evap[t%365]/1000*s[t]*stor_to_surface/sim_step\n",
        "    ##### new\n",
        "    # check release constraints\n",
        "\n",
        "\n",
        "    #####\n",
        "    s[t+1] = s[t] + (inflow_[t+1] - r[t+1] - evaporation_t)*sim_step\n",
        "\n",
        "    # check minimum storage constraint\n",
        "    l[t+1] = 0.0521*(s[t+1]**0.3589)   ### now in the for loop and before constraints\n",
        "    s[t+1] = max(0, s[t+1])\n",
        "    s[t+1] = min(s[t+1], S) #check max storage constraint\n",
        "\n",
        "\n",
        "  ### calculate indicators\n",
        "  #indicator 1: construction cost\n",
        "\n",
        "\n",
        "  #indicator 2: flood days\n",
        "\n",
        "\n",
        "  #weighted sum\n",
        "\n",
        "\n",
        "  return J\n",
        "\n"
      ],
      "metadata": {
        "id": "F2iA0GAw96Le"
      },
      "execution_count": null,
      "outputs": []
    },
    {
      "cell_type": "code",
      "source": [
        "# With Gibe III reservoir size and \"equal\" objective weights, this function can be called as:\n",
        "\n",
        "w1 = 0.5\n",
        "w2 = 0.5\n",
        "\n",
        "S = 1.47e10 #m3\n",
        "u = 1.47\n",
        "J = simulate(u)\n",
        "\n",
        "print(J)"
      ],
      "metadata": {
        "id": "8htlDc2hjmAE"
      },
      "execution_count": null,
      "outputs": []
    },
    {
      "cell_type": "markdown",
      "source": [],
      "metadata": {
        "id": "TgLvwIQZjlqo"
      }
    },
    {
      "cell_type": "markdown",
      "source": [
        "# 1a. Weighted sum + discretized decision"
      ],
      "metadata": {
        "id": "vqA11HeBi4v-"
      }
    },
    {
      "cell_type": "code",
      "source": [
        "# let's set a combination of weights\n",
        "w1 = 0.5\n",
        "w2 = 0.5\n",
        "\n",
        "# discretize the values of u\n",
        "u_ = np.arange(0.1,3,0.1)\n",
        "\n",
        "# iterate calculation of J for every value of u\n",
        "J_ =\n",
        "for ...\n",
        "\n",
        "plt.figure(figsize=(8, 3))\n",
        "plt.plot(u_, J_, '-o')\n",
        "\n",
        "# best solution is where J is minimum\n",
        "id_best = np.argmin(J_)\n",
        "plt.plot(u_[id_best], J_[id_best], 'o', color='r')\n",
        "\n",
        "plt.xlabel('decision (reservoir size)')\n",
        "plt.ylabel('objective (cost and flood)')\n",
        "\n"
      ],
      "metadata": {
        "id": "icEE3NHohkqM"
      },
      "execution_count": null,
      "outputs": []
    },
    {
      "cell_type": "markdown",
      "source": [
        "Let's look at one objective at a time:"
      ],
      "metadata": {
        "id": "F1B80Jq_jEze"
      }
    },
    {
      "cell_type": "code",
      "source": [
        "## cost objective only\n",
        "\n",
        "w1 =\n",
        "w2 =\n",
        "\n",
        "u_ = np.arange(0.1,3,0.1)\n",
        "J_ = []\n",
        "\n",
        "for u in u_:\n",
        "  J_.append(simulate(u))\n",
        "\n",
        "plt.figure(figsize=(8, 3))\n",
        "plt.subplot(1, 2, 1)\n",
        "plt.plot(u_, J_, '-o')\n",
        "plt.title('cost objective only')\n",
        "plt.xlabel('decision (u)')\n",
        "plt.ylabel('objective (J)')\n",
        "\n",
        "### flood objective only\n",
        "w1 =\n",
        "w2 =\n",
        "\n",
        "u_ = np.arange(0.1,3,0.1)\n",
        "J_ = []\n",
        "\n",
        "for u in u_:\n",
        "  J_.append(simulate(u))\n",
        "\n",
        "plt.subplot(1, 2, 2)\n",
        "plt.plot(u_, J_, '-o')\n",
        "plt.title('flood objective only')\n",
        "plt.xlabel('decision (u)')\n",
        "plt.ylabel('objective (J)')\n"
      ],
      "metadata": {
        "id": "4sCtxMn0jEkk",
        "collapsed": true
      },
      "execution_count": null,
      "outputs": []
    },
    {
      "cell_type": "markdown",
      "source": [
        "Let's explore the tradeoff between the two objectives:\n",
        "\n"
      ],
      "metadata": {
        "id": "Ify4gH3zjdW0"
      }
    },
    {
      "cell_type": "code",
      "source": [
        "# external for loop for different weights\n",
        "plt.figure(figsize=(8, 3))\n",
        "plt.xlabel('decision (u)')\n",
        "plt.ylabel('objective (J)')\n",
        "\n",
        "for\n",
        "  w1 =\n",
        "  w2 =\n",
        "\n",
        "  u_ = np.arange(0.1,3,0.1)\n",
        "  J_ = []\n",
        "\n",
        "  for u in u_:\n",
        "    J_.append(simulate(u))\n",
        "\n",
        "  plt.plot(u_, J_, '-o', color = str(weight), markeredgecolor='black' )\n",
        "\n",
        "\n"
      ],
      "metadata": {
        "id": "yPAvtvRpaZ8v"
      },
      "execution_count": null,
      "outputs": []
    },
    {
      "cell_type": "markdown",
      "source": [
        "Let's extract optimal decisions and optimal objective value:"
      ],
      "metadata": {
        "id": "tNF9KS8A-iQ-"
      }
    },
    {
      "cell_type": "code",
      "source": [
        "optimal_obj = []\n",
        "optimal_decision = []\n",
        "\n",
        "for weight in np.arange(0, 1.1, 0.1):\n",
        "  w1 = weight\n",
        "  w2 = 1 - w1\n",
        "  u_ = np.arange(0.1,3,0.1)\n",
        "  J_ = []\n",
        "\n",
        "  for u in u_:\n",
        "    J_.append(simulate(u))\n",
        "\n",
        "  id = np.argmin(J_)\n",
        "  optimal_obj.append(J_[id])\n",
        "  optimal_decision.append(u_[id])\n",
        "\n",
        "  print('cost weight:  ', weight, ', optimal reservoir size:  ',  u_[id], ', optimal objective value:   ', J_[id])\n",
        "# annoying values due to floating-point precision\n"
      ],
      "metadata": {
        "id": "dniCN1rw-mx3"
      },
      "execution_count": null,
      "outputs": []
    },
    {
      "cell_type": "markdown",
      "source": [
        "# From single objective to multiple objectives with weighted method"
      ],
      "metadata": {
        "id": "KGjAQcgsBUtf"
      }
    },
    {
      "cell_type": "code",
      "source": [
        "# First, let's define the same simulate(u) function that returns both objectives.\n",
        "def simulate_twoObjs(u):\n",
        "\n",
        "  S = u*1e10\n",
        "  # time convention\n",
        "  inflow_ = np.concatenate(([-999], inflow))\n",
        "  release_ = np.concatenate(([-999], release))\n",
        "\n",
        "  # initialize storage vector\n",
        "  s = np.zeros(len(inflow_))\n",
        "  l = np.zeros(len(inflow_))\n",
        "  r = np.zeros(len(inflow_))\n",
        "\n",
        "  s[0] = S*0.7\n",
        "\n",
        "  # mass balance\n",
        "  for t in range(H):\n",
        "    evaporation_t = evap[t%365]/1000*s[t]*stor_to_surface/sim_step\n",
        "    ##### new\n",
        "    # check release constraints\n",
        "    r[t+1] = min( release_[t+1], s[t] )\n",
        "    #####\n",
        "    s[t+1] = s[t] + (inflow_[t+1] - r[t+1] - evaporation_t)*sim_step\n",
        "\n",
        "    # check negative\n",
        "    s[t+1] = max(0, s[t+1])\n",
        "\n",
        "    l[t+1] = 0.0521*(s[t+1]**0.3589)   ### now in the for loop and before constraints\n",
        "\n",
        "    s[t+1] = min(s[t+1], S) #check max and min storage physical constraints\n",
        "\n",
        "\n",
        "  ### calculate indicators\n",
        "  #indicator 1: construction cost\n",
        "  J1 = 3*u**2\n",
        "\n",
        "  #indicator 2: flood days\n",
        "  Ny = len(l)/365\n",
        "  l_threshold = 0.0521*(S**0.3589)\n",
        "  J2 = np.sum(l > l_threshold)/Ny\n",
        "\n",
        "\n",
        "  return J1, J2\n",
        "\n"
      ],
      "metadata": {
        "id": "ojXHil3mBT0M"
      },
      "execution_count": null,
      "outputs": []
    },
    {
      "cell_type": "code",
      "source": [
        "# Then, let's run it with the optimal decisions.\n",
        "plt.figure(figsize=(8, 3))\n",
        "J1 = []\n",
        "J2 = []\n",
        "for u in optimal_decision:\n",
        "  j1, j2 = simulate_twoObjs(u)\n",
        "  J1.append(j1)\n",
        "  J2.append(j2)\n",
        "\n",
        "plt.scatter(J1,J2)\n",
        "\n",
        "plt.xlabel('reservoir cost')\n",
        "plt.ylabel('flood days')\n",
        "plt.title('Pareto front of optimal solutions')"
      ],
      "metadata": {
        "id": "Kn04FJySwHPv"
      },
      "execution_count": null,
      "outputs": []
    },
    {
      "cell_type": "markdown",
      "source": [
        "#2a. MO + Random search\n",
        "Now, let's use random search method to find optimal reservoir size."
      ],
      "metadata": {
        "id": "1jj2uqe-wtMD"
      }
    },
    {
      "cell_type": "code",
      "source": [
        "#Identifying the Pareto front from a set of possible points. Assumes minimization\n",
        "\n",
        "def dominates(a,b): # function that checks if a dominates b\n",
        "  return (np.all(a <= b) and np.any(a < b))\n",
        "\n",
        "#The function pareto_sort accepts a matrix of points, returns a matrix of only the nondominated ones. It is not the most efficient method to do this.\n",
        "#keep is an array of booleans used to index the matrix at the end\n",
        "\n",
        "def pareto_sort(P):\n",
        "    N = len(P)\n",
        "    keep = np.ones(N, dtype=bool) # all True to start\n",
        "\n",
        "    for i in range(N):\n",
        "        for j in range(i+1,N):\n",
        "            if keep[j] and dominates(P[i,:], P[j,:]):\n",
        "                keep[j] = False\n",
        "\n",
        "            elif keep[i] and dominates(P[j,:], P[i,:]):\n",
        "                keep[i] = False\n",
        "\n",
        "    return P[keep,:] # only keeping the nondominated points"
      ],
      "metadata": {
        "id": "bKUZfcv52JD0"
      },
      "execution_count": null,
      "outputs": []
    },
    {
      "cell_type": "markdown",
      "source": [
        "Let's use random optimization again:"
      ],
      "metadata": {
        "id": "QYCs0kjA3qzP"
      }
    },
    {
      "cell_type": "code",
      "source": [
        "#upper and lower bound of decision\n",
        "ub = 3\n",
        "lb = 0\n",
        "\n",
        "d = 1 # dimension of decision variable space\n",
        "num_seeds = 1 # for simplicity, just one seed to have a look at the results\n",
        "max_NFE = 100 # number of function evaluations in each seed\n",
        "ft = np.zeros((num_seeds, max_NFE))\n",
        "\n",
        "# pure random search\n",
        "for seed in range(num_seeds):\n",
        "\n",
        "  np.random.seed(seed)\n",
        "  u = np.zeros((max_NFE,1))\n",
        "  J = np.zeros((max_NFE,2))\n",
        "\n",
        "  for i in range(max_NFE):\n",
        "\n",
        "    u[i] =\n",
        "    j1, j2 = simulate_twoObjs(u[i][0])\n",
        "    J[i] = [j1, j2]\n",
        "\n",
        "  # in the MO version, instead of keeping track of the best solution, we save all the solutions and find the non-dominated ones at the end\n",
        "  J_efficient = pareto_sort(J)\n",
        "\n",
        "  plt.figure(figsize=(8, 3))\n",
        "  plt.scatter(J[:,0],J[:,1], c='0.7')\n",
        "  plt.scatter(J_efficient[:,0], J_efficient[:,1], c='red')\n",
        "  plt.xlabel('reservoir cost')\n",
        "  plt.ylabel('flood days')\n",
        "  plt.legend(['Dominated Points', 'Non-dominated points'])\n",
        "  plt.title('Pareto front generated in a single run ')\n",
        "  plt.show()\n"
      ],
      "metadata": {
        "id": "5H_mgNGt3qYJ"
      },
      "execution_count": null,
      "outputs": []
    },
    {
      "cell_type": "markdown",
      "source": [
        "#2b. Multi Objective Evolutionary Algorithm (MOEA)"
      ],
      "metadata": {
        "id": "hroQmmFkXnRd"
      }
    },
    {
      "cell_type": "code",
      "source": [
        "!pip install platypus-opt"
      ],
      "metadata": {
        "id": "vZHijacr938A"
      },
      "execution_count": null,
      "outputs": []
    },
    {
      "cell_type": "markdown",
      "source": [
        "before defining the problem, we have to slightly modify the simulate function or we'll get a type issue.\n",
        "\n",
        "u --> u[0]"
      ],
      "metadata": {
        "id": "TOoILeiadNUr"
      }
    },
    {
      "cell_type": "code",
      "source": [
        "def simulate_twoObjs_MOEA(u):\n",
        "\n",
        "  S = u[0]*1e10\n",
        "  # time convention\n",
        "  inflow_ = np.concatenate(([-999], inflow))\n",
        "  release_ = np.concatenate(([-999], release))\n",
        "\n",
        "  # initialize storage vector\n",
        "  s = np.zeros(len(inflow_))\n",
        "  l = np.zeros(len(inflow_))\n",
        "  r = np.zeros(len(inflow_))\n",
        "\n",
        "  s[0] = S*0.7\n",
        "\n",
        "  # mass balance\n",
        "  for t in range(H):\n",
        "    evaporation_t = evap[t%365]/1000*s[t]*stor_to_surface/sim_step\n",
        "    ##### new\n",
        "    # check release constraints\n",
        "    r[t+1] = min( release_[t+1], s[t] )\n",
        "    #####\n",
        "    s[t+1] = s[t] + (inflow_[t+1] - r[t+1] - evaporation_t)*sim_step\n",
        "\n",
        "    # check negative\n",
        "    s[t+1] = max(0, s[t+1])\n",
        "\n",
        "    l[t+1] = 0.0521*(s[t+1]**0.3589)   ### now in the for loop and before constraints\n",
        "\n",
        "    s[t+1] = min(s[t+1], S) #check max and min storage physical constraints\n",
        "\n",
        "\n",
        "  ### calculate indicators\n",
        "  #indicator 1: construction cost\n",
        "  J1 = 3*u[0]**2\n",
        "\n",
        "  #indicator 2: flood days\n",
        "  Ny = len(l)/365\n",
        "  l_threshold = 0.0521*(S**0.3589)\n",
        "  J2 = np.sum(l > l_threshold)/Ny\n",
        "\n",
        "\n",
        "  return J1, J2"
      ],
      "metadata": {
        "id": "VHoe1dhudUZn"
      },
      "execution_count": null,
      "outputs": []
    },
    {
      "cell_type": "markdown",
      "source": [
        "### How to use Platypus to solve an optimization problem via MOEA"
      ],
      "metadata": {
        "id": "RISOojVLGt8j"
      }
    },
    {
      "cell_type": "code",
      "source": [
        "from platypus import MOEAD, Problem, Real\n",
        "\n",
        "problem = Problem(1, 2)\n",
        "problem.types[:] = Real(lb, ub)\n",
        "problem.function = simulate_twoObjs_MOEA\n",
        "algorithm = MOEAD(problem)\n",
        "\n",
        "#Optimize the problem using max_NFE function evaluations\n",
        "max_NFE = 200 # try changing this!\n",
        "algorithm.run(max_NFE)\n",
        "\n",
        "#Convert results to numpy arrays\n",
        "\n",
        "J = np.array([s.objectives for s in algorithm.result])\n",
        "u = np.array([s.variables for s in algorithm.result])\n",
        "\n",
        "\n",
        "plt.figure(figsize=(8, 3))\n",
        "plt.scatter(J[:,0],J[:,1])\n",
        "plt.xlabel('reservoir cost')\n",
        "plt.ylabel('flood days')\n",
        "plt.title('Pareto Front')\n",
        "plt.show()\n",
        "\n"
      ],
      "metadata": {
        "id": "YQgCWyC59Y9m"
      },
      "execution_count": null,
      "outputs": []
    },
    {
      "cell_type": "code",
      "source": [
        "print(J)"
      ],
      "metadata": {
        "id": "4FoSv7qYBDKP"
      },
      "execution_count": null,
      "outputs": []
    }
  ]
}